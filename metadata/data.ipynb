{
 "cells": [
  {
   "cell_type": "code",
   "execution_count": null,
   "metadata": {},
   "outputs": [],
   "source": [
    "import pandas as pd"
   ]
  },
  {
   "cell_type": "markdown",
   "metadata": {},
   "source": [
    "## Generate Splits"
   ]
  },
  {
   "cell_type": "code",
   "execution_count": null,
   "metadata": {},
   "outputs": [],
   "source": [
    "# code from builder.py\n",
    "\n",
    "import torch\n",
    "import os\n",
    "import random\n",
    "\n",
    "# make sure to do both!\n",
    "\n",
    "# label_type = \"negbio\"\n",
    "label_type = \"chexpert\"\n",
    "\n",
    "views = [\"PA\", \"lateral\"]\n",
    "\n",
    "data_dir = \"\"\n",
    "\n",
    "labels_df = pd.read_csv(\n",
    "            os.path.join(f\"{data_dir}{label_type}.csv\")\n",
    ")\n",
    "\n",
    "# change NaNs to 0\n",
    "# drop all -1.0\n",
    "cleaned_labels_df = labels_df.fillna(0).replace(-1.0, pd.NA).dropna()\n",
    "\n",
    "labels = []\n",
    "\n",
    "for _, row in cleaned_labels_df.iterrows():\n",
    "    labels.append(\n",
    "        torch.tensor(row.to_list()[2:], dtype=torch.float)\n",
    "    )  # drop subject_id and study_id\n",
    "\n",
    "filtered_study_id_to_labels = dict(\n",
    "    zip(\n",
    "        cleaned_labels_df.study_id,\n",
    "        torch.stack(labels),\n",
    "    )\n",
    ")\n",
    "\n",
    "metadata_df = pd.read_csv(\n",
    "    os.path.join(data_dir, f\"{data_dir}metadata.csv\")\n",
    ")\n",
    "\n",
    "# only choose the filtered metadata based on the filtered labels\n",
    "filtered_metadata_df = metadata_df[\n",
    "    metadata_df[\"study_id\"].isin(list(filtered_study_id_to_labels.keys()))\n",
    "]\n",
    "\n",
    "# insert the labels\n",
    "filtered_metadata_df[\"labels\"] = filtered_metadata_df[\"study_id\"].map(\n",
    "    filtered_study_id_to_labels\n",
    ")\n",
    "\n",
    "# only the desired views\n",
    "final_metadata_df = filtered_metadata_df[\n",
    "    filtered_metadata_df[\"ViewPosition\"].isin(views)\n",
    "]\n",
    "\n",
    "final_dicoms = final_metadata_df.dicom_id.to_list()\n",
    "\n",
    "subset = True\n",
    "\n",
    "if subset:\n",
    "    num = 19659\n",
    "    random.shuffle(final_dicoms)\n",
    "    final_dicoms = final_dicoms[:num]"
   ]
  },
  {
   "cell_type": "code",
   "execution_count": null,
   "metadata": {},
   "outputs": [],
   "source": [
    "final_dicoms"
   ]
  },
  {
   "cell_type": "code",
   "execution_count": null,
   "metadata": {},
   "outputs": [],
   "source": [
    "len(final_dicoms)"
   ]
  },
  {
   "cell_type": "code",
   "execution_count": null,
   "metadata": {},
   "outputs": [],
   "source": [
    "from sklearn.model_selection import train_test_split\n",
    "\n",
    "test_p = 0.2\n",
    "seed = 42\n",
    "\n",
    "train, test = train_test_split(final_dicoms, test_size=test_p, random_state=seed, shuffle=True)"
   ]
  },
  {
   "cell_type": "code",
   "execution_count": null,
   "metadata": {},
   "outputs": [],
   "source": [
    "len(train)"
   ]
  },
  {
   "cell_type": "code",
   "execution_count": null,
   "metadata": {},
   "outputs": [],
   "source": [
    "len(test)"
   ]
  },
  {
   "cell_type": "code",
   "execution_count": null,
   "metadata": {},
   "outputs": [],
   "source": [
    "def save_splits_csv(train_dicoms, test_dicoms, label_type, views):\n",
    "    assert len(views) >= 1\n",
    "\n",
    "    train_df = pd.DataFrame(train_dicoms, columns=[\"dicom_id\"])\n",
    "    train_df[\"split\"] = \"train\"\n",
    "\n",
    "    test_df = pd.DataFrame(test_dicoms, columns=[\"dicom_id\"])\n",
    "    test_df[\"split\"] = \"test\"\n",
    "\n",
    "    all_df = pd.concat([train_df, test_df], ignore_index=True, axis=0)\n",
    "    \n",
    "    if subset:\n",
    "        filename = f\"mimic-cxr-2.0.0-split-{label_type}-{'-'.join(views)}-{num}.csv\"\n",
    "    else:\n",
    "        filename = f\"mimic-cxr-2.0.0-split-{label_type}-{'-'.join(views)}.csv\"\n",
    "    all_df.to_csv(filename)"
   ]
  },
  {
   "cell_type": "code",
   "execution_count": null,
   "metadata": {},
   "outputs": [],
   "source": [
    "save_splits_csv(train, test, label_type, views)"
   ]
  },
  {
   "cell_type": "markdown",
   "metadata": {},
   "source": [
    "## Labels"
   ]
  },
  {
   "cell_type": "code",
   "execution_count": null,
   "metadata": {},
   "outputs": [],
   "source": [
    "# labels = pd.read_csv(\"data/mimic-cxr-2.0.0-chexpert.csv\")\n",
    "labels = pd.read_csv(\"data/mimic-cxr-2.0.0-negbio.csv\")\n",
    "\n",
    "labels"
   ]
  },
  {
   "cell_type": "code",
   "execution_count": null,
   "metadata": {},
   "outputs": [],
   "source": [
    "metadata = pd.read_csv(\"data/mimic-cxr-2.0.0-metadata.csv\")\n",
    "\n",
    "metadata"
   ]
  },
  {
   "cell_type": "code",
   "execution_count": null,
   "metadata": {},
   "outputs": [],
   "source": [
    "only_lateral = metadata[metadata[\"ViewPosition\"] == \"PA\"]\n",
    "\n",
    "joined = pd.merge(only_lateral, labels, on=\"study_id\", how=\"left\")\n",
    "\n",
    "joined"
   ]
  },
  {
   "cell_type": "code",
   "execution_count": null,
   "metadata": {},
   "outputs": [],
   "source": [
    "joined.head(15)"
   ]
  },
  {
   "cell_type": "code",
   "execution_count": null,
   "metadata": {},
   "outputs": [],
   "source": [
    "CLASSES = [\n",
    "        \"Atelectasis\",\n",
    "        \"Cardiomegaly\",\n",
    "        \"Consolidation\",\n",
    "        \"Edema\",\n",
    "        \"Enlarged Cardiomediastinum\",\n",
    "        \"Fracture\",\n",
    "        \"Lung Lesion\",\n",
    "        \"Lung Opacity\",\n",
    "        \"Pleural Effusion\",\n",
    "        \"Pneumonia\",\n",
    "        \"Pneumothorax\",\n",
    "        \"Pleural Other\",\n",
    "        \"Support Devices\",\n",
    "        \"No Finding\"\n",
    "    ]\n",
    "\n",
    "filtered = joined[[\"subject_id_x\", \"study_id\", \"ViewPosition\"] + CLASSES]\n",
    "\n",
    "dataset = filtered.fillna(0).replace(-1.0, pd.NA).dropna()\n",
    "\n",
    "dataset"
   ]
  },
  {
   "cell_type": "code",
   "execution_count": null,
   "metadata": {},
   "outputs": [],
   "source": [
    "dataset[\"study_id\"].nunique()"
   ]
  }
 ],
 "metadata": {
  "kernelspec": {
   "display_name": "hf",
   "language": "python",
   "name": "python3"
  },
  "language_info": {
   "codemirror_mode": {
    "name": "ipython",
    "version": 3
   },
   "file_extension": ".py",
   "mimetype": "text/x-python",
   "name": "python",
   "nbconvert_exporter": "python",
   "pygments_lexer": "ipython3",
   "version": "3.10.12"
  }
 },
 "nbformat": 4,
 "nbformat_minor": 2
}
